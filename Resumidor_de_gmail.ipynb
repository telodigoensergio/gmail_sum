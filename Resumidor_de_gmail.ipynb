{
  "cells": [
    {
      "cell_type": "markdown",
      "metadata": {
        "id": "emX7N_x93_2H"
      },
      "source": [
        "### GENERADOR AUTOMATIZADO DE RESUMEN DE BANDEJA DE ENTRADA DE CORREO\n",
        "\n",
        "La adición de la tecnología a nuestra vida diaria ha hecho que el mundo avance a un nivel nunca antes visto en la historia de la humanidad. Sin embargo, también ha limitado nuestros recursos de atención e incrementado los niveles de estrés diario debido a la fina línea que hoy existe entre trabajo y vida privada.\n",
        "\n",
        "Contamos con dispositivos que nos conectan 24h al mundo externo y cada vez van quedando menos momentos de introspección y descanso.\n",
        "\n",
        "Por ello, he creado un programa que con un clic manda a tu bandeja de entrada un resumen de aquellos correos que tienes en tu bandeja de entrada sin leer, para que (de un vistazo) puedas ver cuáles merecen colarse en tu ansiado descanso.\n",
        "\n",
        "La propuesta está dirigida a usarse en tiempos como las vacaciones y el fin de semana, para poder disfrutar más de nuestro tiempo solos o estar de forma plena con aquellos con los que sí queremos estar en NUESTRO tiempo.\n",
        "\n",
        "\n",
      ]
    },
    {
      "cell_type": "code",
      "execution_count": 1,
      "metadata": {
        "colab": {
          "base_uri": "https://localhost:8080/"
        },
        "id": "uznq9aT-y2xB",
        "outputId": "70bbd14a-0533-4918-a279-3874d537d4be"
      },
      "outputs": [
        {
          "output_type": "stream",
          "name": "stdout",
          "text": [
            "--2023-12-19 09:42:50--  http://tu%20archivo/\n",
            "Resolving tu archivo (tu archivo)... failed: Name or service not known.\n",
            "wget: unable to resolve host address ‘tu archivo’\n",
            "--2023-12-19 09:42:50--  http://tu%20token/\n",
            "Resolving tu token (tu token)... failed: Name or service not known.\n",
            "wget: unable to resolve host address ‘tu token’\n"
          ]
        }
      ],
      "source": [
        "# En primer lugar, descargamos los archivos necesarios para la autenticación en Gmail mediante Ouath, el archivo \"autenticación\" es un archivo\n",
        "# .json que se puede descargar una vez creada la credencial en el Google Cloud Console. Para ello, hay que habilitar la API de Gmail con la cuenta\n",
        "# con la que queramos acceder a nuestro correo, y dar los permisos pertinente (lectura y escritura, especialmente). Una vez hecho esto hay que ejecutar\n",
        "# el archivo \"quickstart\" para iniciar sesión en google con nuestro correo y contraseña (las instrucciónes se encuentran aquí: https://developers.google.com/gmail/api/quickstart/python?hl=es-419)\n",
        "# Este archivo generará (una vez iniciada la sesión) un archivo .json con un token que contiene la información para que nuestro programa pueda acceder a la\n",
        "# API de Gmail.\n",
        "\n",
        "# Aquí descargamos los archivos resultantes de dicho proceso.\n",
        "\n",
        "!wget --no-check-certificate 'tu archivo' -O autenticacion.json.json\n",
        "!wget --no-check-certificate 'tu token' -O token.json"
      ]
    },
    {
      "cell_type": "code",
      "execution_count": null,
      "metadata": {
        "colab": {
          "base_uri": "https://localhost:8080/"
        },
        "id": "_mPdGSz94-bw",
        "outputId": "7178dc3b-e995-4303-9fb9-c4ef1b79b695"
      },
      "outputs": [
        {
          "output_type": "stream",
          "name": "stdout",
          "text": [
            "Requirement already satisfied: google-api-python-client in /usr/local/lib/python3.10/dist-packages (2.84.0)\n",
            "Collecting google-api-python-client\n",
            "  Downloading google_api_python_client-2.98.0-py2.py3-none-any.whl (12.2 MB)\n",
            "\u001b[2K     \u001b[90m━━━━━━━━━━━━━━━━━━━━━━━━━━━━━━━━━━━━━━━━\u001b[0m \u001b[32m12.2/12.2 MB\u001b[0m \u001b[31m23.5 MB/s\u001b[0m eta \u001b[36m0:00:00\u001b[0m\n",
            "\u001b[?25hRequirement already satisfied: google-auth-httplib2 in /usr/local/lib/python3.10/dist-packages (0.1.0)\n",
            "Requirement already satisfied: google-auth-oauthlib in /usr/local/lib/python3.10/dist-packages (1.0.0)\n",
            "Requirement already satisfied: httplib2<1.dev0,>=0.15.0 in /usr/local/lib/python3.10/dist-packages (from google-api-python-client) (0.22.0)\n",
            "Requirement already satisfied: google-auth<3.0.0.dev0,>=1.19.0 in /usr/local/lib/python3.10/dist-packages (from google-api-python-client) (2.17.3)\n",
            "Requirement already satisfied: google-api-core!=2.0.*,!=2.1.*,!=2.2.*,!=2.3.0,<3.0.0.dev0,>=1.31.5 in /usr/local/lib/python3.10/dist-packages (from google-api-python-client) (2.11.1)\n",
            "Requirement already satisfied: uritemplate<5,>=3.0.1 in /usr/local/lib/python3.10/dist-packages (from google-api-python-client) (4.1.1)\n",
            "Requirement already satisfied: six in /usr/local/lib/python3.10/dist-packages (from google-auth-httplib2) (1.16.0)\n",
            "Requirement already satisfied: requests-oauthlib>=0.7.0 in /usr/local/lib/python3.10/dist-packages (from google-auth-oauthlib) (1.3.1)\n",
            "Requirement already satisfied: googleapis-common-protos<2.0.dev0,>=1.56.2 in /usr/local/lib/python3.10/dist-packages (from google-api-core!=2.0.*,!=2.1.*,!=2.2.*,!=2.3.0,<3.0.0.dev0,>=1.31.5->google-api-python-client) (1.60.0)\n",
            "Requirement already satisfied: protobuf!=3.20.0,!=3.20.1,!=4.21.0,!=4.21.1,!=4.21.2,!=4.21.3,!=4.21.4,!=4.21.5,<5.0.0.dev0,>=3.19.5 in /usr/local/lib/python3.10/dist-packages (from google-api-core!=2.0.*,!=2.1.*,!=2.2.*,!=2.3.0,<3.0.0.dev0,>=1.31.5->google-api-python-client) (3.20.3)\n",
            "Requirement already satisfied: requests<3.0.0.dev0,>=2.18.0 in /usr/local/lib/python3.10/dist-packages (from google-api-core!=2.0.*,!=2.1.*,!=2.2.*,!=2.3.0,<3.0.0.dev0,>=1.31.5->google-api-python-client) (2.31.0)\n",
            "Requirement already satisfied: cachetools<6.0,>=2.0.0 in /usr/local/lib/python3.10/dist-packages (from google-auth<3.0.0.dev0,>=1.19.0->google-api-python-client) (5.3.1)\n",
            "Requirement already satisfied: pyasn1-modules>=0.2.1 in /usr/local/lib/python3.10/dist-packages (from google-auth<3.0.0.dev0,>=1.19.0->google-api-python-client) (0.3.0)\n",
            "Requirement already satisfied: rsa<5,>=3.1.4 in /usr/local/lib/python3.10/dist-packages (from google-auth<3.0.0.dev0,>=1.19.0->google-api-python-client) (4.9)\n",
            "Requirement already satisfied: pyparsing!=3.0.0,!=3.0.1,!=3.0.2,!=3.0.3,<4,>=2.4.2 in /usr/local/lib/python3.10/dist-packages (from httplib2<1.dev0,>=0.15.0->google-api-python-client) (3.1.1)\n",
            "Requirement already satisfied: oauthlib>=3.0.0 in /usr/local/lib/python3.10/dist-packages (from requests-oauthlib>=0.7.0->google-auth-oauthlib) (3.2.2)\n",
            "Requirement already satisfied: pyasn1<0.6.0,>=0.4.6 in /usr/local/lib/python3.10/dist-packages (from pyasn1-modules>=0.2.1->google-auth<3.0.0.dev0,>=1.19.0->google-api-python-client) (0.5.0)\n",
            "Requirement already satisfied: charset-normalizer<4,>=2 in /usr/local/lib/python3.10/dist-packages (from requests<3.0.0.dev0,>=2.18.0->google-api-core!=2.0.*,!=2.1.*,!=2.2.*,!=2.3.0,<3.0.0.dev0,>=1.31.5->google-api-python-client) (3.2.0)\n",
            "Requirement already satisfied: idna<4,>=2.5 in /usr/local/lib/python3.10/dist-packages (from requests<3.0.0.dev0,>=2.18.0->google-api-core!=2.0.*,!=2.1.*,!=2.2.*,!=2.3.0,<3.0.0.dev0,>=1.31.5->google-api-python-client) (3.4)\n",
            "Requirement already satisfied: urllib3<3,>=1.21.1 in /usr/local/lib/python3.10/dist-packages (from requests<3.0.0.dev0,>=2.18.0->google-api-core!=2.0.*,!=2.1.*,!=2.2.*,!=2.3.0,<3.0.0.dev0,>=1.31.5->google-api-python-client) (2.0.4)\n",
            "Requirement already satisfied: certifi>=2017.4.17 in /usr/local/lib/python3.10/dist-packages (from requests<3.0.0.dev0,>=2.18.0->google-api-core!=2.0.*,!=2.1.*,!=2.2.*,!=2.3.0,<3.0.0.dev0,>=1.31.5->google-api-python-client) (2023.7.22)\n",
            "Installing collected packages: google-api-python-client\n",
            "  Attempting uninstall: google-api-python-client\n",
            "    Found existing installation: google-api-python-client 2.84.0\n",
            "    Uninstalling google-api-python-client-2.84.0:\n",
            "      Successfully uninstalled google-api-python-client-2.84.0\n",
            "Successfully installed google-api-python-client-2.98.0\n",
            "Collecting oauth2\n",
            "  Downloading oauth2-1.9.0.post1-py2.py3-none-any.whl (25 kB)\n",
            "Requirement already satisfied: httplib2 in /usr/local/lib/python3.10/dist-packages (from oauth2) (0.22.0)\n",
            "Requirement already satisfied: pyparsing!=3.0.0,!=3.0.1,!=3.0.2,!=3.0.3,<4,>=2.4.2 in /usr/local/lib/python3.10/dist-packages (from httplib2->oauth2) (3.1.1)\n",
            "Installing collected packages: oauth2\n",
            "Successfully installed oauth2-1.9.0.post1\n"
          ]
        }
      ],
      "source": [
        "# Para poder manejar la API, necesitamos instalar los siguientes recursos:\n",
        "\n",
        "!pip install --upgrade google-api-python-client google-auth-httplib2 google-auth-oauthlib\n",
        "\n",
        "!pip install oauth2"
      ]
    },
    {
      "cell_type": "code",
      "execution_count": null,
      "metadata": {
        "id": "qucyKlbG5rY8"
      },
      "outputs": [],
      "source": [
        "# Y para iniciar sesión en nuestro Gmail, los siguientes. El enlace SCOPES es el que nos da la vía de entrada para los permisos que anteriormente\n",
        "# hemos dado. En este caso: todos.\n",
        "\n",
        "SCOPES = ['https://mail.google.com/']\n",
        "from google.oauth2.credentials import Credentials"
      ]
    },
    {
      "cell_type": "code",
      "execution_count": null,
      "metadata": {
        "colab": {
          "base_uri": "https://localhost:8080/"
        },
        "id": "kEDmGJE456i2",
        "outputId": "ebdfb66a-fc5e-4b14-d8bf-bd98ca984f94"
      },
      "outputs": [
        {
          "output_type": "stream",
          "name": "stdout",
          "text": [
            "Collecting summa\n",
            "  Downloading summa-1.2.0.tar.gz (54 kB)\n",
            "\u001b[2K     \u001b[90m━━━━━━━━━━━━━━━━━━━━━━━━━━━━━━━━━━━━━━━━\u001b[0m \u001b[32m54.9/54.9 kB\u001b[0m \u001b[31m1.6 MB/s\u001b[0m eta \u001b[36m0:00:00\u001b[0m\n",
            "\u001b[?25h  Preparing metadata (setup.py) ... \u001b[?25l\u001b[?25hdone\n",
            "Requirement already satisfied: scipy>=0.19 in /usr/local/lib/python3.10/dist-packages (from summa) (1.10.1)\n",
            "Requirement already satisfied: numpy<1.27.0,>=1.19.5 in /usr/local/lib/python3.10/dist-packages (from scipy>=0.19->summa) (1.23.5)\n",
            "Building wheels for collected packages: summa\n",
            "  Building wheel for summa (setup.py) ... \u001b[?25l\u001b[?25hdone\n",
            "  Created wheel for summa: filename=summa-1.2.0-py3-none-any.whl size=54389 sha256=db33dd086855bbef5a8bb32dd797382fd3860bbae90cec47ca0aae984bb1399c\n",
            "  Stored in directory: /root/.cache/pip/wheels/4a/ca/c5/4958614cfba88ed6ceb7cb5a849f9f89f9ac49971616bc919f\n",
            "Successfully built summa\n",
            "Installing collected packages: summa\n",
            "Successfully installed summa-1.2.0\n"
          ]
        }
      ],
      "source": [
        "\n",
        "#Instalamos el modelo que resumirá los correos. Summa en este caso (intenté instalar Llama2, pero Colab no tiene suficente potencia xD)\n",
        "# que tiene \"peso pluma\" y cumple satisfactoriamente con la tarea que nos proponemos\n",
        "\n",
        "!pip install summa"
      ]
    },
    {
      "cell_type": "code",
      "execution_count": null,
      "metadata": {
        "id": "EN9kiThv6Pzt"
      },
      "outputs": [],
      "source": [
        "#Importamos las funciones que nos hacen falta para que todo funcione\n",
        "\n",
        "from __future__ import print_function\n",
        "from summa import summarizer\n",
        "import quopri\n",
        "import googleapiclient\n",
        "import base64   #Protocolo de encriptación para poder desencriptar correos entrantes y encriptar los salientes\n",
        "from email.mime.text import MIMEText  #Interfaz que nos facilitará el envío.\n",
        "from email.mime.multipart import MIMEMultipart\n",
        "import pandas as pd"
      ]
    },
    {
      "cell_type": "code",
      "execution_count": null,
      "metadata": {
        "id": "HYnVrm3K6o3t"
      },
      "outputs": [],
      "source": [
        "from __future__ import print_function\n",
        "\n",
        "import os.path\n",
        "\n",
        "from google.auth.transport.requests import Request\n",
        "from google.oauth2.credentials import Credentials\n",
        "from google_auth_oauthlib.flow import InstalledAppFlow\n",
        "from googleapiclient.discovery import build #Nos permirá hacer una función con el servicio de gmail y nuestras credenciales y usarlo con una línea\n",
        "from googleapiclient.errors import HttpError"
      ]
    },
    {
      "cell_type": "code",
      "execution_count": null,
      "metadata": {
        "id": "Gi0405Kp6Xb9",
        "outputId": "14935ff2-85d1-4f09-f4f9-6c2e14cc9954",
        "colab": {
          "base_uri": "https://localhost:8080/"
        }
      },
      "outputs": [
        {
          "output_type": "stream",
          "name": "stdout",
          "text": [
            "Es el momento de expresar tu opinión sobre la calidad de los cursos que\r\n",
            "estás cursando.\n",
            "Por favor, toma unos minutos para completar la encuesta que\r\n",
            "Puedes acceder a la encuesta a través del siguiente enlace: [\r\n",
            "Departamento de Calidad Universitaria\r\n",
            "\n",
            "\n",
            "Hola Sergio,\r\n",
            "Espero que estés teniendo una buena semana.\n",
            "Quería informarte que debido a\r\n",
            "algunas circunstancias, hemos tenido que posponer la fecha de entrega del\r\n",
            "proyecto en el curso de Procesamiento de Lenguaje Natural.\n",
            "La nueva fecha\r\n",
            "límite será [nueva fecha].\n",
            "\n",
            "\n",
            "Hola Sergio,\r\n",
            "Espero que te encuentres bien.\n",
            "Quería compartir contigo una emocionante\r\n",
            "oportunidad de empleo en nuestra empresa en el área de Procesamiento de\r\n",
            "Si estás interesado en esta oportunidad, por favor háznoslo saber y\r\n",
            "oportunidad de trabajar juntos!\n",
            "Recursos Humanos de la Empresa\r\n"
          ]
        }
      ],
      "source": [
        "# Construimos el servicio para acceder a Gmail: especificamos la aplicación, la versión y los credenciales con nuestro token de inicio de sesión.\n",
        "\n",
        "googleapiclient.discovery.build('gmail', 'v1', credentials=Credentials.from_authorized_user_file('token.json', SCOPES))\n",
        "service = googleapiclient.discovery.build('gmail', 'v1', credentials=Credentials.from_authorized_user_file('token.json', SCOPES))\n",
        "\n",
        "# Creamos una variable que lea la bandeja de entrada:\n",
        "messages = service.users().messages().list(userId='me', labelIds=['INBOX']).execute()\n",
        "\n",
        "threads = service.users().threads().list(userId='me').execute()\n",
        "\n",
        "# Función para decodificar los mensajes: usamos base64 y Quopri (importados anteriormente)\n",
        "def decode_mime_body(raw_body):\n",
        "    msg_str = base64.urlsafe_b64decode(raw_body).decode('utf-8')\n",
        "    return quopri.decodestring(msg_str).decode('utf-8')\n",
        "\n",
        "# Guardamos el contenido del cuerpo del mensaje en una lista (clave para poder enviar luego el correo-resumen)\n",
        "threads = service.users().threads().list(userId='me', q='is:unread').execute()\n",
        "\n",
        "messages_list = []\n",
        "\n",
        "if 'threads' in threads:\n",
        "    # Almacena el contenido del cuerpo del mensaje en una lista\n",
        "    for thread in threads['threads']:\n",
        "        thread_id = thread['id']\n",
        "        thread_data = service.users().threads().get(userId='me', id=thread_id).execute()\n",
        "\n",
        "        for message in thread_data['messages']:\n",
        "            msg_id = message['id']\n",
        "            msg_data = service.users().messages().get(userId='me', id=msg_id).execute()\n",
        "\n",
        "            msg_body = None\n",
        "            for part in msg_data['payload']['parts']:\n",
        "                if part['mimeType'] == 'text/plain':\n",
        "                    msg_body = part['body']['data']\n",
        "                    break\n",
        "\n",
        "            if msg_body:\n",
        "                decoded_body = base64.urlsafe_b64decode(msg_body).decode('utf-8')\n",
        "\n",
        "#Guardamos en la lista los resúmenes del cuerpo (ya decodificado del mensaje)\n",
        "                messages_list.append(\n",
        "\n",
        "                    summarizer.summarize(decoded_body, language='spanish', ratio=0.5),  #Generamos el resumen (ocupará la mitad que el original)\n",
        "\n",
        "                )\n",
        "# Lo pasamos a string para poder añadirlo al cuerpo del mensaje\n",
        "                cadena = '\\n\\n\\n'.join(messages_list)\n",
        "\n",
        "                #MARCA EL MENSAJE COMO LEÍDO UNA VEZ HECHO EL RESUMEN: lo dejo anotado por si quieres ejecutarlo más de una vez.\n",
        "\n",
        "             #   msg_labels = {'removeLabelIds': ['UNREAD']}\n",
        "              #  service.users().messages().modify(userId='me', id=msg_id, body=msg_labels).execute()\n",
        "\n",
        "# CONFIGURAMOS LA CADENA PARA CUANDO YA NO HAYA MENSAJES\n",
        "else:\n",
        "    cadena = 'no hay mensajes sin leer'\n",
        "\n",
        "\n",
        "# ESTABLECEMOS LOS VALORES DEL MENSAJE-RESUMEN:\n",
        "\n",
        "emailMsg = cadena #CUERPO DEL TEXTO\n",
        "mimeMessage = MIMEMultipart()\n",
        "mimeMessage[\"to\"] = \"tucorreo@gmail.com\" #NOS LO REENVIAMOS A NOSOTROS MISMOS\n",
        "mimeMessage[\"subject\"] = \"Prueba resumen\"  #ASUNTO DEL CORREO-RESUMEN\n",
        "mimeMessage.attach(MIMEText(emailMsg, \"plain\"))  #VALORES DEL CUERPO\n",
        "raw_string = base64.urlsafe_b64encode(mimeMessage.as_bytes()).decode()  #CODIFICAMOS\n",
        "\n",
        "\n",
        "#ENVIAMOS EL MENSAJE-RESUMEN. Y LO IMPRIMIMOS PARA VERIFICAR LO QUE SE MANDA:\n",
        "\n",
        "message = service.users().messages().send(userId = \"me\", body = {\"raw\": raw_string}).execute()\n",
        "print(emailMsg)"
      ]
    }
  ],
  "metadata": {
    "colab": {
      "provenance": [],
      "authorship_tag": "ABX9TyOLCN5I64XzQIkAxhWYe7Js"
    },
    "kernelspec": {
      "display_name": "Python 3",
      "name": "python3"
    },
    "language_info": {
      "name": "python"
    }
  },
  "nbformat": 4,
  "nbformat_minor": 0
}
